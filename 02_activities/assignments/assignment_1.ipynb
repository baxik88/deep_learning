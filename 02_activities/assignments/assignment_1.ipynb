{
  "cells": [
    {
      "cell_type": "markdown",
      "id": "ba8ab56f",
      "metadata": {
        "id": "ba8ab56f"
      },
      "source": [
        "# Advanced Image Classification with ImageNet"
      ]
    },
    {
      "cell_type": "markdown",
      "id": "7c630244b8fe2847",
      "metadata": {
        "collapsed": false,
        "id": "7c630244b8fe2847"
      },
      "source": [
        "In this assignment, you will be asked to develop a convolutional neural network (CNN) to classify images from the CIFAR-100 dataset. At each step, you'll be guided through the process of developing a model architecture to solve a problem. Your goal is to create a CNN that attains at least 55% accuracy on the validation set.\n",
        "\n",
        "### The CIFAR-100 Dataset\n",
        "\n",
        "The [CIFAR-100 dataset](https://www.cs.toronto.edu/~kriz/cifar.html) consists of 60000 32x32 colour images in 100 classes, with 600 images per class. There are 50000 training images and 10000 test images. The dataset is divided into five training batches and one test batch, each with 10000 images. The test batch contains exactly 1000 randomly-selected images from each class. The training batches contain the remaining images in random order, but some training batches may contain more images from one class than another. Between them, the training batches contain exactly 500 images from each class.\n",
        "\n",
        "### Tools\n",
        "\n",
        "You will use Keras with TensorFlow to develop your CNN. For this assignment, it's strongly recommended that you use a GPU to accelerate your training, or else you might find it difficult to train your network in a reasonable amount of time. If you have a computer with a GPU that you wish to use, you can follow the [TensorFlow instructions](https://www.tensorflow.org/install/) for installing TensorFlow with GPU support. Otherwise, you can use [Google Colab](https://colab.research.google.com/) to complete this assignment. Colab provides free access to GPU-enabled machines. If you run into any issues, please contact us as soon as possible so that we can help you resolve them."
      ]
    },
    {
      "cell_type": "markdown",
      "id": "fab62988ece1528d",
      "metadata": {
        "collapsed": false,
        "id": "fab62988ece1528d"
      },
      "source": [
        "## Task 1: Data Exploration and Preprocessing (Complete or Incomplete)\n",
        "### 1a: Load and Explore the Dataset\n",
        "- Use the code below to download the dataset.\n",
        "- Explore the dataset: examine the shape of the training and test sets, the dimensions of the images, and the number of classes. Show a few examples from the training set."
      ]
    },
    {
      "cell_type": "code",
      "execution_count": 1,
      "id": "8820fcdc5ae52ae2",
      "metadata": {
        "ExecuteTime": {
          "start_time": "2024-01-26T17:04:08.432758Z"
        },
        "id": "8820fcdc5ae52ae2",
        "is_executing": true
      },
      "outputs": [
        {
          "name": "stdout",
          "output_type": "stream",
          "text": [
            "Downloading data from https://www.cs.toronto.edu/~kriz/cifar-100-python.tar.gz\n",
            "169001437/169001437 [==============================] - 5s 0us/step\n"
          ]
        }
      ],
      "source": [
        "from keras.datasets import cifar100\n",
        "\n",
        "# Load the CIFAR-100 dataset\n",
        "(x_train, y_train), (x_test, y_test) = cifar100.load_data(label_mode='fine')"
      ]
    },
    {
      "cell_type": "code",
      "execution_count": 4,
      "id": "a386b4072078138f",
      "metadata": {
        "id": "a386b4072078138f"
      },
      "outputs": [],
      "source": [
        "class_names = [\n",
        "    \"apple\", \"aquarium_fish\", \"baby\", \"bear\", \"beaver\", \"bed\", \"bee\", \"beetle\", \"bicycle\", \"bottle\",\n",
        "    \"bowl\", \"boy\", \"bridge\", \"bus\", \"butterfly\", \"camel\", \"can\", \"castle\", \"caterpillar\", \"cattle\",\n",
        "    \"chair\", \"chimpanzee\", \"clock\", \"cloud\", \"cockroach\", \"couch\", \"crab\", \"crocodile\", \"cup\", \"dinosaur\",\n",
        "    \"dolphin\", \"elephant\", \"flatfish\", \"forest\", \"fox\", \"girl\", \"hamster\", \"house\", \"kangaroo\", \"keyboard\",\n",
        "    \"lamp\", \"lawn_mower\", \"leopard\", \"lion\", \"lizard\", \"lobster\", \"man\", \"maple_tree\", \"motorcycle\", \"mountain\",\n",
        "    \"mouse\", \"mushroom\", \"oak_tree\", \"orange\", \"orchid\", \"otter\", \"palm_tree\", \"pear\", \"pickup_truck\", \"pine_tree\",\n",
        "    \"plain\", \"plate\", \"poppy\", \"porcupine\", \"possum\", \"rabbit\", \"raccoon\", \"ray\", \"road\", \"rocket\",\n",
        "    \"rose\", \"sea\", \"seal\", \"shark\", \"shrew\", \"skunk\", \"skyscraper\", \"snail\", \"snake\", \"spider\",\n",
        "    \"squirrel\", \"streetcar\", \"sunflower\", \"sweet_pepper\", \"table\", \"tank\", \"telephone\", \"television\", \"tiger\", \"tractor\",\n",
        "    \"train\", \"trout\", \"tulip\", \"turtle\", \"wardrobe\", \"whale\", \"willow_tree\", \"wolf\", \"woman\", \"worm\"\n",
        "]"
      ]
    },
    {
      "cell_type": "code",
      "execution_count": 5,
      "id": "36ca8354",
      "metadata": {
        "colab": {
          "base_uri": "https://localhost:8080/"
        },
        "id": "36ca8354",
        "outputId": "2c7cdd4e-9300-4d6b-e3fd-8a1d0854890e"
      },
      "outputs": [
        {
          "name": "stdout",
          "output_type": "stream",
          "text": [
            "Training Data Shape: (50000, 32, 32, 3)\n",
            "Testing Data Shape: (10000, 32, 32, 3)\n",
            "Number of classes: 100\n",
            "Data type: uint8\n",
            "Min pixel value: 0\n",
            "Max pixel value: 255\n"
          ]
        }
      ],
      "source": [
        "print(\"Training Data Shape:\", x_train.shape)\n",
        "print(\"Testing Data Shape:\", x_test.shape)\n",
        "\n",
        "print(\"Number of classes:\", len(class_names))\n",
        "\n",
        "\n",
        "print(\"Data type:\", x_train.dtype)\n",
        "print(\"Min pixel value:\", x_train.min())\n",
        "print(\"Max pixel value:\", x_train.max())\n"
      ]
    },
    {
      "cell_type": "markdown",
      "id": "ad49291da3a819ea",
      "metadata": {
        "collapsed": false,
        "id": "ad49291da3a819ea"
      },
      "source": [
        "### 1b: Data Preprocessing\n",
        "- With the data downloaded, it's time to preprocess it. Start by normalizing the images so that they all have pixel values in the range [0, 1].\n",
        "- Next, convert the labels to one-hot encoded vectors.\n",
        "- Finally, split the training set into training and validation sets. Use 80% of the training set for training and the remaining 20% for validation."
      ]
    },
    {
      "cell_type": "code",
      "execution_count": 6,
      "id": "b18c10172fa72d0c",
      "metadata": {
        "id": "b18c10172fa72d0c"
      },
      "outputs": [],
      "source": [
        "import tensorflow as tf\n",
        "from sklearn.model_selection import train_test_split\n",
        "\n",
        "# Normalize the images (convert pixel values to range [0, 1])\n",
        "x_train = x_train.astype('float32') / 255.0\n",
        "x_test = x_test.astype('float32') / 255.0\n",
        "\n",
        "# Convert labels to one-hot encoding\n",
        "y_train = tf.keras.utils.to_categorical(y_train, num_classes=100)\n",
        "y_test = tf.keras.utils.to_categorical(y_test, num_classes=100)\n",
        "\n"
      ]
    },
    {
      "cell_type": "code",
      "execution_count": 7,
      "id": "O3TGmg7ZEe3q",
      "metadata": {
        "colab": {
          "base_uri": "https://localhost:8080/"
        },
        "id": "O3TGmg7ZEe3q",
        "outputId": "44596d0d-3a18-454a-f69c-cf90e75c3565"
      },
      "outputs": [
        {
          "name": "stdout",
          "output_type": "stream",
          "text": [
            "Training set shape: (40000, 32, 32, 3) (40000, 100)\n",
            "Validation set shape: (10000, 32, 32, 3) (10000, 100)\n",
            "Test set shape: (10000, 32, 32, 3) (10000, 100)\n"
          ]
        }
      ],
      "source": [
        "# Split the training set into 80% training and 20% validation\n",
        "x_train, x_val, y_train, y_val = train_test_split(\n",
        "    x_train, y_train, test_size=0.2, random_state=42\n",
        ")\n",
        "\n",
        "# Print shape to verify\n",
        "print(\"Training set shape:\", x_train.shape, y_train.shape)\n",
        "print(\"Validation set shape:\", x_val.shape, y_val.shape)\n",
        "print(\"Test set shape:\", x_test.shape, y_test.shape)\n"
      ]
    },
    {
      "cell_type": "markdown",
      "id": "5993757f08c89db7",
      "metadata": {
        "collapsed": false,
        "id": "5993757f08c89db7"
      },
      "source": [
        "## Task 2: Model Development (Complete or Incomplete)\n",
        "### Task 2a: Create a Baseline CNN Model\n",
        "- Design a CNN architecture. Your architecture should use convolutional layers, max pooling layers, and dense layers. You can use any number of layers, and you can experiment with different numbers of filters, filter sizes, strides, padding, etc. The design doesn't need to be perfect, but it should be unique to you.\n",
        "- Print out the model summary."
      ]
    },
    {
      "cell_type": "code",
      "execution_count": 8,
      "id": "c9edafdaf887b8d5",
      "metadata": {
        "colab": {
          "base_uri": "https://localhost:8080/",
          "height": 430
        },
        "id": "c9edafdaf887b8d5",
        "outputId": "969e1648-cab8-4ded-8113-f5c78e999bb1"
      },
      "outputs": [
        {
          "name": "stdout",
          "output_type": "stream",
          "text": [
            "Model: \"sequential\"\n",
            "_________________________________________________________________\n",
            " Layer (type)                Output Shape              Param #   \n",
            "=================================================================\n",
            " conv2d (Conv2D)             (None, 30, 30, 32)        896       \n",
            "                                                                 \n",
            " max_pooling2d (MaxPooling2D  (None, 15, 15, 32)       0         \n",
            " )                                                               \n",
            "                                                                 \n",
            " conv2d_1 (Conv2D)           (None, 13, 13, 64)        18496     \n",
            "                                                                 \n",
            " max_pooling2d_1 (MaxPooling  (None, 6, 6, 64)         0         \n",
            " 2D)                                                             \n",
            "                                                                 \n",
            " conv2d_2 (Conv2D)           (None, 4, 4, 128)         73856     \n",
            "                                                                 \n",
            " max_pooling2d_2 (MaxPooling  (None, 2, 2, 128)        0         \n",
            " 2D)                                                             \n",
            "                                                                 \n",
            " flatten (Flatten)           (None, 512)               0         \n",
            "                                                                 \n",
            " dense (Dense)               (None, 128)               65664     \n",
            "                                                                 \n",
            " dense_1 (Dense)             (None, 100)               12900     \n",
            "                                                                 \n",
            "=================================================================\n",
            "Total params: 171,812\n",
            "Trainable params: 171,812\n",
            "Non-trainable params: 0\n",
            "_________________________________________________________________\n"
          ]
        }
      ],
      "source": [
        "model = tf.keras.models.Sequential()\n",
        "\n",
        "# Convolutional Layers\n",
        "model.add(tf.keras.layers.Conv2D(32, (3, 3), activation='relu', input_shape=(32, 32, 3)))\n",
        "model.add(tf.keras.layers.MaxPooling2D((2, 2)))\n",
        "\n",
        "model.add(tf.keras.layers.Conv2D(64, (3, 3), activation='relu'))\n",
        "model.add(tf.keras.layers.MaxPooling2D((2, 2)))\n",
        "\n",
        "model.add(tf.keras.layers.Conv2D(128, (3, 3), activation='relu'))\n",
        "model.add(tf.keras.layers.MaxPooling2D((2, 2)))\n",
        "\n",
        "# Flatten before Dense Layers\n",
        "model.add(tf.keras.layers.Flatten())\n",
        "\n",
        "# Fully Connected (Dense) Layers\n",
        "model.add(tf.keras.layers.Dense(128, activation='relu'))\n",
        "model.add(tf.keras.layers.Dense(100, activation='softmax'))  # Correct output layer for 100 classes\n",
        "\n",
        "# Model Summary\n",
        "model.summary()"
      ]
    },
    {
      "cell_type": "markdown",
      "id": "546324c007c73db5",
      "metadata": {
        "collapsed": false,
        "id": "546324c007c73db5"
      },
      "source": [
        "### Task 2b: Compile the model\n",
        "\n",
        "- Select an appropriate loss function and optimizer for your model. These can be ones we have looked at already, or they can be different.\n",
        "- Briefly explain your choices (one or two sentences each).\n",
        "- <b>Loss function:</b> CIFAR-100 is a multi-class classification problem. categorical_crossentropy is the standard loss function for multi-class classification when labels are one-hot encoded.\n",
        "- <b>Optimizer:</b> Adam combines the benefits of SGD with momentum and RMSProp, making it faster and more stable. It automatically adjusts learning rates for each parameter, reducing the need for manual tuning."
      ]
    },
    {
      "cell_type": "code",
      "execution_count": 9,
      "id": "ab39f4ba69d684e9",
      "metadata": {
        "id": "ab39f4ba69d684e9"
      },
      "outputs": [],
      "source": [
        "model.compile(optimizer='Adam', loss='categorical_crossentropy', metrics=['accuracy'])"
      ]
    },
    {
      "cell_type": "markdown",
      "id": "653fba928413b9f6",
      "metadata": {
        "collapsed": false,
        "id": "653fba928413b9f6"
      },
      "source": [
        "## Task 3: Model Training and Evaluation (Complete or Incomplete)\n",
        "### Task 3a: Train the Model\n",
        "\n",
        "- Train your model for an appropriate number of epochs. Explain your choice of the number of epochs used - you can change this number before submitting your assignment.\n",
        "- Use a batch size of 32.\n",
        "- Use the validation set for validation."
      ]
    },
    {
      "cell_type": "code",
      "execution_count": 10,
      "id": "9de74f274ad08546",
      "metadata": {
        "colab": {
          "base_uri": "https://localhost:8080/"
        },
        "id": "9de74f274ad08546",
        "outputId": "f503636b-0871-4968-ea5c-b46dbfd55a1a"
      },
      "outputs": [
        {
          "name": "stdout",
          "output_type": "stream",
          "text": [
            "Epoch 1/10\n",
            "1250/1250 [==============================] - 27s 21ms/step - loss: 4.0116 - accuracy: 0.0844 - val_loss: 3.5817 - val_accuracy: 0.1473\n",
            "Epoch 2/10\n",
            "1250/1250 [==============================] - 27s 21ms/step - loss: 3.3410 - accuracy: 0.1942 - val_loss: 3.2296 - val_accuracy: 0.2175\n",
            "Epoch 3/10\n",
            "1250/1250 [==============================] - 26s 21ms/step - loss: 3.0303 - accuracy: 0.2515 - val_loss: 3.0620 - val_accuracy: 0.2505\n",
            "Epoch 4/10\n",
            "1250/1250 [==============================] - 27s 21ms/step - loss: 2.8284 - accuracy: 0.2915 - val_loss: 2.8735 - val_accuracy: 0.2914\n",
            "Epoch 5/10\n",
            "1250/1250 [==============================] - 26s 21ms/step - loss: 2.6660 - accuracy: 0.3241 - val_loss: 2.8373 - val_accuracy: 0.2952\n",
            "Epoch 6/10\n",
            "1250/1250 [==============================] - 26s 21ms/step - loss: 2.5426 - accuracy: 0.3489 - val_loss: 2.7310 - val_accuracy: 0.3245\n",
            "Epoch 7/10\n",
            "1250/1250 [==============================] - 26s 21ms/step - loss: 2.4267 - accuracy: 0.3730 - val_loss: 2.7237 - val_accuracy: 0.3230\n",
            "Epoch 8/10\n",
            "1250/1250 [==============================] - 27s 22ms/step - loss: 2.3315 - accuracy: 0.3931 - val_loss: 2.6820 - val_accuracy: 0.3387\n",
            "Epoch 9/10\n",
            "1250/1250 [==============================] - 26s 21ms/step - loss: 2.2414 - accuracy: 0.4137 - val_loss: 2.6271 - val_accuracy: 0.3500\n",
            "Epoch 10/10\n",
            "1250/1250 [==============================] - 27s 21ms/step - loss: 2.1654 - accuracy: 0.4268 - val_loss: 2.6444 - val_accuracy: 0.3461\n"
          ]
        }
      ],
      "source": [
        "# Train model\n",
        "history = model.fit(x_train, y_train, epochs=10, batch_size=32, validation_data=(x_val, y_val))"
      ]
    },
    {
      "cell_type": "markdown",
      "id": "b48615c26b99d2e9",
      "metadata": {
        "collapsed": false,
        "id": "b48615c26b99d2e9"
      },
      "source": [
        "### Task 3b: Accuracy and other relevant metrics on the test set\n",
        "\n",
        "- Report the accuracy of your model on the test set.\n",
        "- While accuracy is a good metric, there are many other ways to numerically evaluate a model. Report at least one other metric, and explain what it measures and how it is calculated.\n",
        "\n",
        "- <b>Accuracy:</b> 0.3465\n",
        "- <b>Other metric:</b> Loss\n",
        "- <b>Reason for selection:</b> Loss measures how well the model's predictions match the actual labels. Unlike accuracy, which only considers correct vs. incorrect predictions, loss takes into account how confident the model is in its predictions. A lower loss means the model is making better predictions overall.  \n",
        "- <b>Value of metric:</b> 2.6376\n",
        "- <b>Interpretation of metric value:</b> A lower loss is ideal because it means the model's predictions are closer to the true values. In this case, the loss is still relatively high, indicating that the model might need more training or better tuning of hyperparameters like learning rate or Dropout."
      ]
    },
    {
      "cell_type": "code",
      "execution_count": null,
      "id": "f670665fda92fb0e",
      "metadata": {
        "ExecuteTime": {
          "end_time": "2024-01-26T17:49:39.016880Z",
          "start_time": "2024-01-26T17:49:39.012100Z"
        },
        "colab": {
          "base_uri": "https://localhost:8080/"
        },
        "id": "f670665fda92fb0e",
        "outputId": "b6b1ed09-766f-4f4a-b0cf-faa9c73e2f62"
      },
      "outputs": [
        {
          "name": "stdout",
          "output_type": "stream",
          "text": [
            "313/313 [==============================] - 2s 8ms/step - loss: 2.6377 - accuracy: 0.3465\n"
          ]
        },
        {
          "data": {
            "text/plain": [
              "[2.637657403945923, 0.3465000092983246]"
            ]
          },
          "execution_count": 12,
          "metadata": {},
          "output_type": "execute_result"
        }
      ],
      "source": [
        "# Your Code Here\n",
        "history.model.evaluate(x_test, y_test) \n"
      ]
    },
    {
      "cell_type": "code",
      "execution_count": null,
      "id": "XVYsNWsmHD81",
      "metadata": {
        "colab": {
          "base_uri": "https://localhost:8080/"
        },
        "id": "XVYsNWsmHD81",
        "outputId": "81f4ca43-af35-4d1c-a6c1-e59d79682675"
      },
      "outputs": [
        {
          "name": "stdout",
          "output_type": "stream",
          "text": [
            "Accuracy: 0.4267500042915344\n",
            "Loss: 2.1654436588287354\n"
          ]
        }
      ],
      "source": [
        "# print training accuracy\n",
        "print(\"Accuracy:\", history.history['accuracy'][-1]) \n",
        "\n",
        "# print training loss\n",
        "print(\"Loss:\", history.history['loss'][-1])"
      ]
    },
    {
      "cell_type": "markdown",
      "id": "58d2d836d4e8ce99",
      "metadata": {
        "collapsed": false,
        "id": "58d2d836d4e8ce99"
      },
      "source": [
        "### Task 3c: Visualize the model's learning\n",
        "\n",
        "- Plot the training accuracy and validation accuracy with respect to epochs.\n",
        "- Select an image that the model correctly classified in the test set, and an image that the model incorrectly classified in the test set. Plot the images and report the model's classification probabilities for each.\n",
        "- Briefly discuss the results. What do the plots show? Do the results make sense? What do the classification probabilities indicate?"
      ]
    },
    {
      "cell_type": "code",
      "execution_count": 14,
      "id": "c5b214475a496ca5",
      "metadata": {
        "ExecuteTime": {
          "end_time": "2024-01-26T17:50:59.733968Z",
          "start_time": "2024-01-26T17:50:59.730635Z"
        },
        "colab": {
          "base_uri": "https://localhost:8080/",
          "height": 487
        },
        "id": "c5b214475a496ca5",
        "outputId": "ee3dbdd1-52f9-4c0f-a732-e6fdd3e4da86"
      },
      "outputs": [
        {
          "data": {
            "image/png": "[encoded data removed]",
            "text/plain": [
              "<Figure size 800x500 with 1 Axes>"
            ]
          },
          "metadata": {},
          "output_type": "display_data"
        }
      ],
      "source": [
        "import matplotlib.pyplot as plt\n",
        "\n",
        "# Extract accuracy and validation accuracy from training history\n",
        "epochs = range(1, len(history.history['accuracy']) + 1)\n",
        "train_acc = history.history['accuracy']\n",
        "val_acc = history.history['val_accuracy']\n",
        "\n",
        "# Plot accuracy\n",
        "plt.figure(figsize=(8, 5))\n",
        "plt.plot(epochs, train_acc, label='Training Accuracy', marker='o')\n",
        "plt.plot(epochs, val_acc, label='Validation Accuracy', marker='o')\n",
        "plt.xlabel('Epochs')\n",
        "plt.ylabel('Accuracy')\n",
        "plt.title('Training & Validation Accuracy Over Epochs')\n",
        "plt.legend()\n",
        "plt.show()\n"
      ]
    },
    {
      "cell_type": "markdown",
      "id": "a648758ebea0561d",
      "metadata": {
        "collapsed": false,
        "id": "a648758ebea0561d"
      },
      "source": [
        "## Task 4: Model Enhancement (Complete or Incomplete)\n",
        "### Task 4a: Implementation of at least one advanced technique\n",
        "\n",
        "- Now it's time to improve your model. Implement at least one technique to improve your model's performance. You can use any of the techniques we have covered in class, or you can use a technique that we haven't covered. If you need inspiration, you can refer to the [Keras documentation](https://keras.io/).\n",
        "- Explain the technique you used and why you chose it.\n",
        "- If you used a technique that requires tuning, explain how you selected the values for the hyperparameters."
      ]
    },
    {
      "cell_type": "code",
      "execution_count": 15,
      "id": "f3659ac83122567f",
      "metadata": {
        "colab": {
          "base_uri": "https://localhost:8080/",
          "height": 562
        },
        "id": "f3659ac83122567f",
        "outputId": "b0bc5b43-70fa-493b-ef10-263a53b17726"
      },
      "outputs": [
        {
          "name": "stdout",
          "output_type": "stream",
          "text": [
            "Model: \"sequential_1\"\n",
            "_________________________________________________________________\n",
            " Layer (type)                Output Shape              Param #   \n",
            "=================================================================\n",
            " conv2d_3 (Conv2D)           (None, 30, 30, 32)        896       \n",
            "                                                                 \n",
            " max_pooling2d_3 (MaxPooling  (None, 15, 15, 32)       0         \n",
            " 2D)                                                             \n",
            "                                                                 \n",
            " dropout (Dropout)           (None, 15, 15, 32)        0         \n",
            "                                                                 \n",
            " conv2d_4 (Conv2D)           (None, 13, 13, 64)        18496     \n",
            "                                                                 \n",
            " max_pooling2d_4 (MaxPooling  (None, 6, 6, 64)         0         \n",
            " 2D)                                                             \n",
            "                                                                 \n",
            " dropout_1 (Dropout)         (None, 6, 6, 64)          0         \n",
            "                                                                 \n",
            " conv2d_5 (Conv2D)           (None, 4, 4, 128)         73856     \n",
            "                                                                 \n",
            " max_pooling2d_5 (MaxPooling  (None, 2, 2, 128)        0         \n",
            " 2D)                                                             \n",
            "                                                                 \n",
            " dropout_2 (Dropout)         (None, 2, 2, 128)         0         \n",
            "                                                                 \n",
            " flatten_1 (Flatten)         (None, 512)               0         \n",
            "                                                                 \n",
            " dense_2 (Dense)             (None, 128)               65664     \n",
            "                                                                 \n",
            " dropout_3 (Dropout)         (None, 128)               0         \n",
            "                                                                 \n",
            " dense_3 (Dense)             (None, 100)               12900     \n",
            "                                                                 \n",
            "=================================================================\n",
            "Total params: 171,812\n",
            "Trainable params: 171,812\n",
            "Non-trainable params: 0\n",
            "_________________________________________________________________\n"
          ]
        }
      ],
      "source": [
        "model = tf.keras.models.Sequential()\n",
        "\n",
        "# Convolutional Layers with Dropout\n",
        "model.add(tf.keras.layers.Conv2D(32, (3, 3), activation='relu', input_shape=(32, 32, 3)))\n",
        "model.add(tf.keras.layers.MaxPooling2D((2, 2)))\n",
        "model.add(tf.keras.layers.Dropout(0.25))\n",
        "\n",
        "model.add(tf.keras.layers.Conv2D(64, (3, 3), activation='relu'))\n",
        "model.add(tf.keras.layers.MaxPooling2D((2, 2)))\n",
        "model.add(tf.keras.layers.Dropout(0.25))\n",
        "\n",
        "model.add(tf.keras.layers.Conv2D(128, (3, 3), activation='relu'))\n",
        "model.add(tf.keras.layers.MaxPooling2D((2, 2)))\n",
        "model.add(tf.keras.layers.Dropout(0.25))\n",
        "\n",
        "# Flatten before Dense Layers\n",
        "model.add(tf.keras.layers.Flatten())\n",
        "\n",
        "# Fully Connected (Dense) Layers with Dropout\n",
        "model.add(tf.keras.layers.Dense(128, activation='relu'))\n",
        "model.add(tf.keras.layers.Dropout(0.5))\n",
        "model.add(tf.keras.layers.Dense(100, activation='softmax'))\n",
        "\n",
        "# Model Summary\n",
        "model.summary()"
      ]
    },
    {
      "cell_type": "markdown",
      "id": "d9467a483a1dd5d3",
      "metadata": {
        "collapsed": false,
        "id": "d9467a483a1dd5d3"
      },
      "source": [
        "### Task 4b: Evaluation of the enhanced model\n",
        "\n",
        "- Re-train your model using the same number of epochs as before.\n",
        "- Compare the accuracy and other selected metric on the test set to the results you obtained before.\n",
        "- As before, plot the training accuracy and validation accuracy with respect to epochs, and select an image that the model correctly classified in the test set, and an image that the model incorrectly classified in the test set. Plot the images and report the model's classification probabilities for each."
      ]
    },
    {
      "cell_type": "code",
      "execution_count": 16,
      "id": "7c4701b36dc8fc55",
      "metadata": {
        "colab": {
          "base_uri": "https://localhost:8080/"
        },
        "id": "7c4701b36dc8fc55",
        "outputId": "e686c149-4c00-4fd6-cad6-fbdac15d232e"
      },
      "outputs": [
        {
          "name": "stdout",
          "output_type": "stream",
          "text": [
            "Epoch 1/10\n",
            "1250/1250 [==============================] - 30s 23ms/step - loss: 4.2919 - accuracy: 0.0422 - val_loss: 4.0167 - val_accuracy: 0.0822\n",
            "Epoch 2/10\n",
            "1250/1250 [==============================] - 29s 23ms/step - loss: 3.9093 - accuracy: 0.0936 - val_loss: 3.6804 - val_accuracy: 0.1389\n",
            "Epoch 3/10\n",
            "1250/1250 [==============================] - 28s 23ms/step - loss: 3.6847 - accuracy: 0.1298 - val_loss: 3.5216 - val_accuracy: 0.1698\n",
            "Epoch 4/10\n",
            "1250/1250 [==============================] - 28s 23ms/step - loss: 3.5259 - accuracy: 0.1579 - val_loss: 3.2803 - val_accuracy: 0.2101\n",
            "Epoch 5/10\n",
            "1250/1250 [==============================] - 28s 23ms/step - loss: 3.4296 - accuracy: 0.1777 - val_loss: 3.2509 - val_accuracy: 0.2270\n",
            "Epoch 6/10\n",
            "1250/1250 [==============================] - 28s 23ms/step - loss: 3.3276 - accuracy: 0.1927 - val_loss: 3.0889 - val_accuracy: 0.2505\n",
            "Epoch 7/10\n",
            "1250/1250 [==============================] - 28s 23ms/step - loss: 3.2623 - accuracy: 0.2057 - val_loss: 3.0290 - val_accuracy: 0.2637\n",
            "Epoch 8/10\n",
            "1250/1250 [==============================] - 29s 23ms/step - loss: 3.2195 - accuracy: 0.2165 - val_loss: 3.0293 - val_accuracy: 0.2668\n",
            "Epoch 9/10\n",
            "1250/1250 [==============================] - 29s 23ms/step - loss: 3.1556 - accuracy: 0.2241 - val_loss: 2.9451 - val_accuracy: 0.2787\n",
            "Epoch 10/10\n",
            "1250/1250 [==============================] - 29s 23ms/step - loss: 3.1263 - accuracy: 0.2313 - val_loss: 2.8582 - val_accuracy: 0.2896\n"
          ]
        }
      ],
      "source": [
        "model.compile(\n",
        "    optimizer=tf.keras.optimizers.Adam(learning_rate=0.001),\n",
        "    loss='categorical_crossentropy',\n",
        "    metrics=['accuracy']\n",
        ")\n",
        "\n",
        "history_enhanced = model.fit(\n",
        "    x_train, y_train,\n",
        "    epochs=10, batch_size=32,\n",
        "    validation_data=(x_val, y_val)\n",
        ")"
      ]
    },
    {
      "cell_type": "code",
      "execution_count": 17,
      "id": "bYBtne5MKjVj",
      "metadata": {
        "colab": {
          "base_uri": "https://localhost:8080/"
        },
        "id": "bYBtne5MKjVj",
        "outputId": "0f51156e-a9d4-426f-efd1-445607b8af73"
      },
      "outputs": [
        {
          "name": "stdout",
          "output_type": "stream",
          "text": [
            "313/313 [==============================] - 2s 8ms/step - loss: 2.8634 - accuracy: 0.2955\n",
            "Enhanced Model Test Accuracy: 0.2955\n",
            "Enhanced Model Test Loss: 2.8634\n"
          ]
        }
      ],
      "source": [
        "# Evaluate enhanced model\n",
        "test_loss, test_acc = model.evaluate(x_test, y_test)\n",
        "\n",
        "# Print results\n",
        "print(f\"Enhanced Model Test Accuracy: {test_acc:.4f}\")\n",
        "print(f\"Enhanced Model Test Loss: {test_loss:.4f}\")"
      ]
    },
    {
      "cell_type": "code",
      "execution_count": 19,
      "id": "4Fivp5pYKzh7",
      "metadata": {
        "colab": {
          "base_uri": "https://localhost:8080/",
          "height": 487
        },
        "id": "4Fivp5pYKzh7",
        "outputId": "4796e29f-f48d-423c-d726-ece5eac7ccd3"
      },
      "outputs": [
        {
          "data": {
            "image/png": "[encoded data removed]",
            "text/plain": [
              "<Figure size 800x500 with 1 Axes>"
            ]
          },
          "metadata": {},
          "output_type": "display_data"
        }
      ],
      "source": [
        "# Extract accuracy values\n",
        "epochs = range(1, len(history_enhanced.history['accuracy']) + 1)\n",
        "train_acc = history_enhanced.history['accuracy']\n",
        "val_acc = history_enhanced.history['val_accuracy']\n",
        "\n",
        "# Plot accuracy curves\n",
        "plt.figure(figsize=(8, 5))\n",
        "plt.plot(epochs, train_acc, label='Training Accuracy', marker='o')\n",
        "plt.plot(epochs, val_acc, label='Validation Accuracy', marker='o')\n",
        "plt.xlabel('Epochs')\n",
        "plt.ylabel('Accuracy')\n",
        "plt.title('Enhanced Model: Training & Validation Accuracy')\n",
        "plt.legend()\n",
        "plt.show()"
      ]
    },
    {
      "cell_type": "code",
      "execution_count": 20,
      "id": "WvodWLZhK98J",
      "metadata": {
        "colab": {
          "base_uri": "https://localhost:8080/",
          "height": 738
        },
        "id": "WvodWLZhK98J",
        "outputId": "21676c1f-cf31-4ce3-c8ec-b5a9cb256499"
      },
      "outputs": [
        {
          "name": "stdout",
          "output_type": "stream",
          "text": [
            "313/313 [==============================] - 2s 6ms/step\n"
          ]
        },
        {
          "data": {
            "image/png": "[encoded data removed]",
            "text/plain": [
              "<Figure size 1000x500 with 1 Axes>"
            ]
          },
          "metadata": {},
          "output_type": "display_data"
        },
        {
          "data": {
            "image/png": "[encoded data removed]",
            "text/plain": [
              "<Figure size 640x480 with 1 Axes>"
            ]
          },
          "metadata": {},
          "output_type": "display_data"
        }
      ],
      "source": [
        "import numpy as np\n",
        "\n",
        "# Get predictions\n",
        "y_pred = model.predict(x_test)\n",
        "y_pred_classes = np.argmax(y_pred, axis=1)\n",
        "y_true_classes = np.argmax(y_test, axis=1)\n",
        "\n",
        "# Find correct and incorrect classifications\n",
        "correct_idx = np.where(y_pred_classes == y_true_classes)[0][0]\n",
        "incorrect_idx = np.where(y_pred_classes != y_true_classes)[0][0]\n",
        "\n",
        "# Function to plot results\n",
        "def plot_prediction(idx, correct=True):\n",
        "    plt.imshow(x_test[idx])\n",
        "    plt.axis('off')\n",
        "    predicted_label = y_pred_classes[idx]\n",
        "    true_label = y_true_classes[idx]\n",
        "    title = f\"Correct\\nTrue: {true_label}, Predicted: {predicted_label}\" if correct else \\\n",
        "            f\"Incorrect\\nTrue: {true_label}, Predicted: {predicted_label}\"\n",
        "    plt.title(title)\n",
        "    plt.show()\n",
        "\n",
        "# Show images\n",
        "plt.figure(figsize=(10, 5))\n",
        "plt.subplot(1, 2, 1)\n",
        "plot_prediction(correct_idx, correct=True)\n",
        "plt.subplot(1, 2, 2)\n",
        "plot_prediction(incorrect_idx, correct=False)"
      ]
    },
    {
      "cell_type": "markdown",
      "id": "eadfc848700215e8",
      "metadata": {
        "collapsed": false,
        "id": "eadfc848700215e8"
      },
      "source": [
        "### Task 4c: Discussion of the results\n",
        "\n",
        "- Briefly discuss the results.\n",
        "- Did the model's performance improve?\n",
        "- Why do you think this is?\n",
        "- Do you think there is room for further improvement? Why or why not?\n",
        "- What other techniques might you try in the future?\n",
        "- Your answer should be no more than 200 words.\n",
        "\n",
        "# Your answer here\n",
        "\n",
        "- After adding Dropout, the model showed slightly worse performance on the validation set and a noticeable drop in training accuracy. But that's helped successfully prevent overfitting - training and validation accuracy are now much better. In my opinion, this outcome is better because the model's learning dynamics are correct. Instead of memorizing the training data, it is generalizing better to unseen examples. Additionally, we can further improve performance by increasing the number of training epochs, allowing the model to learn more while maintaining good generalization.\n",
        "\n",
        "- Model's performance didn't improve.\n",
        "\n",
        "- This happened because Dropout randomly turns off some neurons during training, preventing the model from relying too much on specific features. As a result, it learns more useful patterns instead of memorizing the training data.\n",
        "\n",
        "- I also used the Adam optimizer with a learning rate of 0.001, which helped the model train efficiently. A lower or adaptive learning rate could be tested to see if it improves results further.\n",
        "\n",
        "- There is still room for improvement. We could try adjusting the Dropout rate to find the best balance or test different learning rates. Adding more training epochs might also help if the model is still learning.\n",
        "\n",
        "- In the future, I would experiment with learning rate adjustments or different Dropout values to further improve accuracy."
      ]
    },
    {
      "cell_type": "markdown",
      "id": "7415f68f",
      "metadata": {
        "id": "7415f68f"
      },
      "source": [
        "## Criteria\n",
        "\n",
        "|Criteria|Complete|Incomplete|\n",
        "|----|----|----|\n",
        "|Task 1|The task has been completed successfully and there are no errors.|The task is still incomplete and there is at least one error.|\n",
        "|Task 2|The task has been completed successfully and there are no errors.|The task is still incomplete and there is at least one error.|\n",
        "|Task 3|The task has been completed successfully and there are no errors.|The task is still incomplete and there is at least one error.|\n",
        "|Task 4|The task has been completed successfully and there are no errors.|The task is still incomplete and there is at least one error.|"
      ]
    },
    {
      "cell_type": "markdown",
      "id": "ad0c10bc",
      "metadata": {
        "id": "ad0c10bc"
      },
      "source": [
        "## Submission Information\n",
        "\n",
        "🚨 **Please review our [Assignment Submission Guide](https://github.com/UofT-DSI/onboarding/blob/main/onboarding_documents/submissions.md)** 🚨 for detailed instructions on how to format, branch, and submit your work. Following these guidelines is crucial for your submissions to be evaluated correctly.\n",
        "\n",
        "### Submission Parameters:\n",
        "* Submission Due Date: `HH:MM AM/PM - DD/MM/YYYY`\n",
        "* The branch name for your repo should be: `assignment-1`\n",
        "* What to submit for this assignment:\n",
        "    * This Jupyter Notebook (assignment_1.ipynb) should be populated and should be the only change in your pull request.\n",
        "* What the pull request link should look like for this assignment: `https://github.com/<your_github_username>/deep_learning/pull/<pr_id>`\n",
        "    * Open a private window in your browser. Copy and paste the link to your pull request into the address bar. Make sure you can see your pull request properly. This helps the technical facilitator and learning support staff review your submission easily.\n",
        "\n",
        "Checklist:\n",
        "- [ ] Created a branch with the correct naming convention.\n",
        "- [ ] Ensured that the repository is public.\n",
        "- [ ] Reviewed the PR description guidelines and adhered to them.\n",
        "- [ ] Verify that the link is accessible in a private browser window.\n",
        "\n",
        "If you encounter any difficulties or have questions, please don't hesitate to reach out to our team via our Slack at `#cohort-3-help`. Our Technical Facilitators and Learning Support staff are here to help you navigate any challenges."
      ]
    }
  ],
  "metadata": {
    "accelerator": "TPU",
    "colab": {
      "gpuType": "V28",
      "provenance": []
    },
    "kernelspec": {
      "display_name": "igor_dsi",
      "language": "python",
      "name": "python3"
    },
    "language_info": {
      "codemirror_mode": {
        "name": "ipython",
        "version": 3
      },
      "file_extension": ".py",
      "mimetype": "text/x-python",
      "name": "python",
      "nbconvert_exporter": "python",
      "pygments_lexer": "ipython3",
      "version": "3.9.15"
    }
  },
  "nbformat": 4,
  "nbformat_minor": 5
}
